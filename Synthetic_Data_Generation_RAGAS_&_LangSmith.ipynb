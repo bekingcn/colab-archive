{
  "nbformat": 4,
  "nbformat_minor": 0,
  "metadata": {
    "colab": {
      "provenance": [],
      "include_colab_link": true
    },
    "kernelspec": {
      "name": "python3",
      "display_name": "Python 3"
    },
    "language_info": {
      "name": "python"
    },
    "widgets": {
      "application/vnd.jupyter.widget-state+json": {
        "69719abe3e7d4148b5a712b51a55e691": {
          "model_module": "@jupyter-widgets/controls",
          "model_name": "HBoxModel",
          "model_module_version": "1.5.0",
          "state": {
            "_dom_classes": [],
            "_model_module": "@jupyter-widgets/controls",
            "_model_module_version": "1.5.0",
            "_model_name": "HBoxModel",
            "_view_count": null,
            "_view_module": "@jupyter-widgets/controls",
            "_view_module_version": "1.5.0",
            "_view_name": "HBoxView",
            "box_style": "",
            "children": [
              "IPY_MODEL_68748ef9f44c426b8188924cad8dd236",
              "IPY_MODEL_8c98a364f42f41fab2365c2672787e8a",
              "IPY_MODEL_792cf247b54e4c8896426269b39a0d79"
            ],
            "layout": "IPY_MODEL_db5c7617feb74bf6943d5d9624e9823c"
          }
        },
        "68748ef9f44c426b8188924cad8dd236": {
          "model_module": "@jupyter-widgets/controls",
          "model_name": "HTMLModel",
          "model_module_version": "1.5.0",
          "state": {
            "_dom_classes": [],
            "_model_module": "@jupyter-widgets/controls",
            "_model_module_version": "1.5.0",
            "_model_name": "HTMLModel",
            "_view_count": null,
            "_view_module": "@jupyter-widgets/controls",
            "_view_module_version": "1.5.0",
            "_view_name": "HTMLView",
            "description": "",
            "description_tooltip": null,
            "layout": "IPY_MODEL_6440871fecf1419488168eadea6447d9",
            "placeholder": "​",
            "style": "IPY_MODEL_7b392f8c1ac74897a593b1290f334327",
            "value": "embedding nodes:  98%"
          }
        },
        "8c98a364f42f41fab2365c2672787e8a": {
          "model_module": "@jupyter-widgets/controls",
          "model_name": "FloatProgressModel",
          "model_module_version": "1.5.0",
          "state": {
            "_dom_classes": [],
            "_model_module": "@jupyter-widgets/controls",
            "_model_module_version": "1.5.0",
            "_model_name": "FloatProgressModel",
            "_view_count": null,
            "_view_module": "@jupyter-widgets/controls",
            "_view_module_version": "1.5.0",
            "_view_name": "ProgressView",
            "bar_style": "",
            "description": "",
            "description_tooltip": null,
            "layout": "IPY_MODEL_1f3231779b344e95ac026fb881b8e459",
            "max": 64,
            "min": 0,
            "orientation": "horizontal",
            "style": "IPY_MODEL_fd2926d2e0a842d6b1072fa299aa8948",
            "value": 64
          }
        },
        "792cf247b54e4c8896426269b39a0d79": {
          "model_module": "@jupyter-widgets/controls",
          "model_name": "HTMLModel",
          "model_module_version": "1.5.0",
          "state": {
            "_dom_classes": [],
            "_model_module": "@jupyter-widgets/controls",
            "_model_module_version": "1.5.0",
            "_model_name": "HTMLModel",
            "_view_count": null,
            "_view_module": "@jupyter-widgets/controls",
            "_view_module_version": "1.5.0",
            "_view_name": "HTMLView",
            "description": "",
            "description_tooltip": null,
            "layout": "IPY_MODEL_ac351130283a4876a2e5edca3314b568",
            "placeholder": "​",
            "style": "IPY_MODEL_f459050b89714e62a9188e615f84d003",
            "value": " 63/64 [00:04&lt;00:00, 16.12it/s]"
          }
        },
        "db5c7617feb74bf6943d5d9624e9823c": {
          "model_module": "@jupyter-widgets/base",
          "model_name": "LayoutModel",
          "model_module_version": "1.2.0",
          "state": {
            "_model_module": "@jupyter-widgets/base",
            "_model_module_version": "1.2.0",
            "_model_name": "LayoutModel",
            "_view_count": null,
            "_view_module": "@jupyter-widgets/base",
            "_view_module_version": "1.2.0",
            "_view_name": "LayoutView",
            "align_content": null,
            "align_items": null,
            "align_self": null,
            "border": null,
            "bottom": null,
            "display": null,
            "flex": null,
            "flex_flow": null,
            "grid_area": null,
            "grid_auto_columns": null,
            "grid_auto_flow": null,
            "grid_auto_rows": null,
            "grid_column": null,
            "grid_gap": null,
            "grid_row": null,
            "grid_template_areas": null,
            "grid_template_columns": null,
            "grid_template_rows": null,
            "height": null,
            "justify_content": null,
            "justify_items": null,
            "left": null,
            "margin": null,
            "max_height": null,
            "max_width": null,
            "min_height": null,
            "min_width": null,
            "object_fit": null,
            "object_position": null,
            "order": null,
            "overflow": null,
            "overflow_x": null,
            "overflow_y": null,
            "padding": null,
            "right": null,
            "top": null,
            "visibility": "hidden",
            "width": null
          }
        },
        "6440871fecf1419488168eadea6447d9": {
          "model_module": "@jupyter-widgets/base",
          "model_name": "LayoutModel",
          "model_module_version": "1.2.0",
          "state": {
            "_model_module": "@jupyter-widgets/base",
            "_model_module_version": "1.2.0",
            "_model_name": "LayoutModel",
            "_view_count": null,
            "_view_module": "@jupyter-widgets/base",
            "_view_module_version": "1.2.0",
            "_view_name": "LayoutView",
            "align_content": null,
            "align_items": null,
            "align_self": null,
            "border": null,
            "bottom": null,
            "display": null,
            "flex": null,
            "flex_flow": null,
            "grid_area": null,
            "grid_auto_columns": null,
            "grid_auto_flow": null,
            "grid_auto_rows": null,
            "grid_column": null,
            "grid_gap": null,
            "grid_row": null,
            "grid_template_areas": null,
            "grid_template_columns": null,
            "grid_template_rows": null,
            "height": null,
            "justify_content": null,
            "justify_items": null,
            "left": null,
            "margin": null,
            "max_height": null,
            "max_width": null,
            "min_height": null,
            "min_width": null,
            "object_fit": null,
            "object_position": null,
            "order": null,
            "overflow": null,
            "overflow_x": null,
            "overflow_y": null,
            "padding": null,
            "right": null,
            "top": null,
            "visibility": null,
            "width": null
          }
        },
        "7b392f8c1ac74897a593b1290f334327": {
          "model_module": "@jupyter-widgets/controls",
          "model_name": "DescriptionStyleModel",
          "model_module_version": "1.5.0",
          "state": {
            "_model_module": "@jupyter-widgets/controls",
            "_model_module_version": "1.5.0",
            "_model_name": "DescriptionStyleModel",
            "_view_count": null,
            "_view_module": "@jupyter-widgets/base",
            "_view_module_version": "1.2.0",
            "_view_name": "StyleView",
            "description_width": ""
          }
        },
        "1f3231779b344e95ac026fb881b8e459": {
          "model_module": "@jupyter-widgets/base",
          "model_name": "LayoutModel",
          "model_module_version": "1.2.0",
          "state": {
            "_model_module": "@jupyter-widgets/base",
            "_model_module_version": "1.2.0",
            "_model_name": "LayoutModel",
            "_view_count": null,
            "_view_module": "@jupyter-widgets/base",
            "_view_module_version": "1.2.0",
            "_view_name": "LayoutView",
            "align_content": null,
            "align_items": null,
            "align_self": null,
            "border": null,
            "bottom": null,
            "display": null,
            "flex": null,
            "flex_flow": null,
            "grid_area": null,
            "grid_auto_columns": null,
            "grid_auto_flow": null,
            "grid_auto_rows": null,
            "grid_column": null,
            "grid_gap": null,
            "grid_row": null,
            "grid_template_areas": null,
            "grid_template_columns": null,
            "grid_template_rows": null,
            "height": null,
            "justify_content": null,
            "justify_items": null,
            "left": null,
            "margin": null,
            "max_height": null,
            "max_width": null,
            "min_height": null,
            "min_width": null,
            "object_fit": null,
            "object_position": null,
            "order": null,
            "overflow": null,
            "overflow_x": null,
            "overflow_y": null,
            "padding": null,
            "right": null,
            "top": null,
            "visibility": null,
            "width": null
          }
        },
        "fd2926d2e0a842d6b1072fa299aa8948": {
          "model_module": "@jupyter-widgets/controls",
          "model_name": "ProgressStyleModel",
          "model_module_version": "1.5.0",
          "state": {
            "_model_module": "@jupyter-widgets/controls",
            "_model_module_version": "1.5.0",
            "_model_name": "ProgressStyleModel",
            "_view_count": null,
            "_view_module": "@jupyter-widgets/base",
            "_view_module_version": "1.2.0",
            "_view_name": "StyleView",
            "bar_color": null,
            "description_width": ""
          }
        },
        "ac351130283a4876a2e5edca3314b568": {
          "model_module": "@jupyter-widgets/base",
          "model_name": "LayoutModel",
          "model_module_version": "1.2.0",
          "state": {
            "_model_module": "@jupyter-widgets/base",
            "_model_module_version": "1.2.0",
            "_model_name": "LayoutModel",
            "_view_count": null,
            "_view_module": "@jupyter-widgets/base",
            "_view_module_version": "1.2.0",
            "_view_name": "LayoutView",
            "align_content": null,
            "align_items": null,
            "align_self": null,
            "border": null,
            "bottom": null,
            "display": null,
            "flex": null,
            "flex_flow": null,
            "grid_area": null,
            "grid_auto_columns": null,
            "grid_auto_flow": null,
            "grid_auto_rows": null,
            "grid_column": null,
            "grid_gap": null,
            "grid_row": null,
            "grid_template_areas": null,
            "grid_template_columns": null,
            "grid_template_rows": null,
            "height": null,
            "justify_content": null,
            "justify_items": null,
            "left": null,
            "margin": null,
            "max_height": null,
            "max_width": null,
            "min_height": null,
            "min_width": null,
            "object_fit": null,
            "object_position": null,
            "order": null,
            "overflow": null,
            "overflow_x": null,
            "overflow_y": null,
            "padding": null,
            "right": null,
            "top": null,
            "visibility": null,
            "width": null
          }
        },
        "f459050b89714e62a9188e615f84d003": {
          "model_module": "@jupyter-widgets/controls",
          "model_name": "DescriptionStyleModel",
          "model_module_version": "1.5.0",
          "state": {
            "_model_module": "@jupyter-widgets/controls",
            "_model_module_version": "1.5.0",
            "_model_name": "DescriptionStyleModel",
            "_view_count": null,
            "_view_module": "@jupyter-widgets/base",
            "_view_module_version": "1.2.0",
            "_view_name": "StyleView",
            "description_width": ""
          }
        },
        "b51494aeaf41463e8727d32c4d58eef1": {
          "model_module": "@jupyter-widgets/controls",
          "model_name": "HBoxModel",
          "model_module_version": "1.5.0",
          "state": {
            "_dom_classes": [],
            "_model_module": "@jupyter-widgets/controls",
            "_model_module_version": "1.5.0",
            "_model_name": "HBoxModel",
            "_view_count": null,
            "_view_module": "@jupyter-widgets/controls",
            "_view_module_version": "1.5.0",
            "_view_name": "HBoxView",
            "box_style": "",
            "children": [
              "IPY_MODEL_03ec90788f1f4261898ef074a3bce804",
              "IPY_MODEL_76539ec825cc42829e86bc122e76de12",
              "IPY_MODEL_4c195ce9041c4c45a38cd412f99e1899"
            ],
            "layout": "IPY_MODEL_9052a6889e944e4882b93875d343a630"
          }
        },
        "03ec90788f1f4261898ef074a3bce804": {
          "model_module": "@jupyter-widgets/controls",
          "model_name": "HTMLModel",
          "model_module_version": "1.5.0",
          "state": {
            "_dom_classes": [],
            "_model_module": "@jupyter-widgets/controls",
            "_model_module_version": "1.5.0",
            "_model_name": "HTMLModel",
            "_view_count": null,
            "_view_module": "@jupyter-widgets/controls",
            "_view_module_version": "1.5.0",
            "_view_name": "HTMLView",
            "description": "",
            "description_tooltip": null,
            "layout": "IPY_MODEL_3c64d3b5913c4bbe93702807ec1cc88d",
            "placeholder": "​",
            "style": "IPY_MODEL_5e5fb1b50b3c4226be3efcc0bd323b6f",
            "value": "Generating: 100%"
          }
        },
        "76539ec825cc42829e86bc122e76de12": {
          "model_module": "@jupyter-widgets/controls",
          "model_name": "FloatProgressModel",
          "model_module_version": "1.5.0",
          "state": {
            "_dom_classes": [],
            "_model_module": "@jupyter-widgets/controls",
            "_model_module_version": "1.5.0",
            "_model_name": "FloatProgressModel",
            "_view_count": null,
            "_view_module": "@jupyter-widgets/controls",
            "_view_module_version": "1.5.0",
            "_view_name": "ProgressView",
            "bar_style": "success",
            "description": "",
            "description_tooltip": null,
            "layout": "IPY_MODEL_585622fb354e46d48ad5f3008b013b85",
            "max": 20,
            "min": 0,
            "orientation": "horizontal",
            "style": "IPY_MODEL_a9356e9a705e4703b96acbc84ce9384f",
            "value": 20
          }
        },
        "4c195ce9041c4c45a38cd412f99e1899": {
          "model_module": "@jupyter-widgets/controls",
          "model_name": "HTMLModel",
          "model_module_version": "1.5.0",
          "state": {
            "_dom_classes": [],
            "_model_module": "@jupyter-widgets/controls",
            "_model_module_version": "1.5.0",
            "_model_name": "HTMLModel",
            "_view_count": null,
            "_view_module": "@jupyter-widgets/controls",
            "_view_module_version": "1.5.0",
            "_view_name": "HTMLView",
            "description": "",
            "description_tooltip": null,
            "layout": "IPY_MODEL_004bae16f7b94d4f8562efe4704c2a64",
            "placeholder": "​",
            "style": "IPY_MODEL_c84790843dd94e39a12092184e19d8a1",
            "value": " 20/20 [03:14&lt;00:00, 42.26s/it]"
          }
        },
        "9052a6889e944e4882b93875d343a630": {
          "model_module": "@jupyter-widgets/base",
          "model_name": "LayoutModel",
          "model_module_version": "1.2.0",
          "state": {
            "_model_module": "@jupyter-widgets/base",
            "_model_module_version": "1.2.0",
            "_model_name": "LayoutModel",
            "_view_count": null,
            "_view_module": "@jupyter-widgets/base",
            "_view_module_version": "1.2.0",
            "_view_name": "LayoutView",
            "align_content": null,
            "align_items": null,
            "align_self": null,
            "border": null,
            "bottom": null,
            "display": null,
            "flex": null,
            "flex_flow": null,
            "grid_area": null,
            "grid_auto_columns": null,
            "grid_auto_flow": null,
            "grid_auto_rows": null,
            "grid_column": null,
            "grid_gap": null,
            "grid_row": null,
            "grid_template_areas": null,
            "grid_template_columns": null,
            "grid_template_rows": null,
            "height": null,
            "justify_content": null,
            "justify_items": null,
            "left": null,
            "margin": null,
            "max_height": null,
            "max_width": null,
            "min_height": null,
            "min_width": null,
            "object_fit": null,
            "object_position": null,
            "order": null,
            "overflow": null,
            "overflow_x": null,
            "overflow_y": null,
            "padding": null,
            "right": null,
            "top": null,
            "visibility": null,
            "width": null
          }
        },
        "3c64d3b5913c4bbe93702807ec1cc88d": {
          "model_module": "@jupyter-widgets/base",
          "model_name": "LayoutModel",
          "model_module_version": "1.2.0",
          "state": {
            "_model_module": "@jupyter-widgets/base",
            "_model_module_version": "1.2.0",
            "_model_name": "LayoutModel",
            "_view_count": null,
            "_view_module": "@jupyter-widgets/base",
            "_view_module_version": "1.2.0",
            "_view_name": "LayoutView",
            "align_content": null,
            "align_items": null,
            "align_self": null,
            "border": null,
            "bottom": null,
            "display": null,
            "flex": null,
            "flex_flow": null,
            "grid_area": null,
            "grid_auto_columns": null,
            "grid_auto_flow": null,
            "grid_auto_rows": null,
            "grid_column": null,
            "grid_gap": null,
            "grid_row": null,
            "grid_template_areas": null,
            "grid_template_columns": null,
            "grid_template_rows": null,
            "height": null,
            "justify_content": null,
            "justify_items": null,
            "left": null,
            "margin": null,
            "max_height": null,
            "max_width": null,
            "min_height": null,
            "min_width": null,
            "object_fit": null,
            "object_position": null,
            "order": null,
            "overflow": null,
            "overflow_x": null,
            "overflow_y": null,
            "padding": null,
            "right": null,
            "top": null,
            "visibility": null,
            "width": null
          }
        },
        "5e5fb1b50b3c4226be3efcc0bd323b6f": {
          "model_module": "@jupyter-widgets/controls",
          "model_name": "DescriptionStyleModel",
          "model_module_version": "1.5.0",
          "state": {
            "_model_module": "@jupyter-widgets/controls",
            "_model_module_version": "1.5.0",
            "_model_name": "DescriptionStyleModel",
            "_view_count": null,
            "_view_module": "@jupyter-widgets/base",
            "_view_module_version": "1.2.0",
            "_view_name": "StyleView",
            "description_width": ""
          }
        },
        "585622fb354e46d48ad5f3008b013b85": {
          "model_module": "@jupyter-widgets/base",
          "model_name": "LayoutModel",
          "model_module_version": "1.2.0",
          "state": {
            "_model_module": "@jupyter-widgets/base",
            "_model_module_version": "1.2.0",
            "_model_name": "LayoutModel",
            "_view_count": null,
            "_view_module": "@jupyter-widgets/base",
            "_view_module_version": "1.2.0",
            "_view_name": "LayoutView",
            "align_content": null,
            "align_items": null,
            "align_self": null,
            "border": null,
            "bottom": null,
            "display": null,
            "flex": null,
            "flex_flow": null,
            "grid_area": null,
            "grid_auto_columns": null,
            "grid_auto_flow": null,
            "grid_auto_rows": null,
            "grid_column": null,
            "grid_gap": null,
            "grid_row": null,
            "grid_template_areas": null,
            "grid_template_columns": null,
            "grid_template_rows": null,
            "height": null,
            "justify_content": null,
            "justify_items": null,
            "left": null,
            "margin": null,
            "max_height": null,
            "max_width": null,
            "min_height": null,
            "min_width": null,
            "object_fit": null,
            "object_position": null,
            "order": null,
            "overflow": null,
            "overflow_x": null,
            "overflow_y": null,
            "padding": null,
            "right": null,
            "top": null,
            "visibility": null,
            "width": null
          }
        },
        "a9356e9a705e4703b96acbc84ce9384f": {
          "model_module": "@jupyter-widgets/controls",
          "model_name": "ProgressStyleModel",
          "model_module_version": "1.5.0",
          "state": {
            "_model_module": "@jupyter-widgets/controls",
            "_model_module_version": "1.5.0",
            "_model_name": "ProgressStyleModel",
            "_view_count": null,
            "_view_module": "@jupyter-widgets/base",
            "_view_module_version": "1.2.0",
            "_view_name": "StyleView",
            "bar_color": null,
            "description_width": ""
          }
        },
        "004bae16f7b94d4f8562efe4704c2a64": {
          "model_module": "@jupyter-widgets/base",
          "model_name": "LayoutModel",
          "model_module_version": "1.2.0",
          "state": {
            "_model_module": "@jupyter-widgets/base",
            "_model_module_version": "1.2.0",
            "_model_name": "LayoutModel",
            "_view_count": null,
            "_view_module": "@jupyter-widgets/base",
            "_view_module_version": "1.2.0",
            "_view_name": "LayoutView",
            "align_content": null,
            "align_items": null,
            "align_self": null,
            "border": null,
            "bottom": null,
            "display": null,
            "flex": null,
            "flex_flow": null,
            "grid_area": null,
            "grid_auto_columns": null,
            "grid_auto_flow": null,
            "grid_auto_rows": null,
            "grid_column": null,
            "grid_gap": null,
            "grid_row": null,
            "grid_template_areas": null,
            "grid_template_columns": null,
            "grid_template_rows": null,
            "height": null,
            "justify_content": null,
            "justify_items": null,
            "left": null,
            "margin": null,
            "max_height": null,
            "max_width": null,
            "min_height": null,
            "min_width": null,
            "object_fit": null,
            "object_position": null,
            "order": null,
            "overflow": null,
            "overflow_x": null,
            "overflow_y": null,
            "padding": null,
            "right": null,
            "top": null,
            "visibility": null,
            "width": null
          }
        },
        "c84790843dd94e39a12092184e19d8a1": {
          "model_module": "@jupyter-widgets/controls",
          "model_name": "DescriptionStyleModel",
          "model_module_version": "1.5.0",
          "state": {
            "_model_module": "@jupyter-widgets/controls",
            "_model_module_version": "1.5.0",
            "_model_name": "DescriptionStyleModel",
            "_view_count": null,
            "_view_module": "@jupyter-widgets/base",
            "_view_module_version": "1.2.0",
            "_view_name": "StyleView",
            "description_width": ""
          }
        }
      }
    }
  },
  "cells": [
    {
      "cell_type": "markdown",
      "metadata": {
        "id": "view-in-github",
        "colab_type": "text"
      },
      "source": [
        "<a href=\"https://colab.research.google.com/github/bekingcn/colab-archive/blob/main/Synthetic_Data_Generation_RAGAS_%26_LangSmith.ipynb\" target=\"_parent\"><img src=\"https://colab.research.google.com/assets/colab-badge.svg\" alt=\"Open In Colab\"/></a>"
      ]
    },
    {
      "cell_type": "markdown",
      "source": [
        "# Synthetic Data Generation Using RAGAS - RAG Evaluation with LangSmith\n",
        "\n",
        "In the following notebook we'll explore a use-case for RAGAS' synthetic testset generation workflow, inspired by the [Evol Instruct](https://arxiv.org/abs/2304.12244) paper.\n",
        "\n",
        "We will use this pipeline to:\n",
        "\n",
        "1. Generate synthetic Question/Ground Truth Pairs\n",
        "2. Load them into a LangSmith Dataset\n",
        "3. Evaluate our RAG chain against the synthetic test data\n",
        "4. Make changes to our pipeline\n",
        "5. Evaluate the modified pipeline\n",
        "\n",
        "SDG is a critical piece of the puzzle, especially for early iteration! Without it, it would not be nearly as easy to get high quality early signal for our application's performance.\n",
        "\n",
        "Let's dive in!"
      ],
      "metadata": {
        "id": "sCk2Rx4cjlYF"
      }
    },
    {
      "cell_type": "markdown",
      "source": [
        "## Dependencies and API Keys\n",
        "\n",
        "We'll need to install a number of API keys and dependencies, since we'll be leveraging a number of great technologies for this pipeline!\n",
        "\n",
        "1. OpenAI's endpoints to handle the Synthetic Data Generation\n",
        "2. TogetherAI's Endpoints for our RAG pipeline and LangSmith evaluation\n",
        "3. QDrant as our vectorstore\n",
        "4. LangSmith for our evaluation coordinator!\n",
        "\n",
        "Let's install and provide all the required information below!"
      ],
      "metadata": {
        "id": "7VUI7vF_kbv9"
      }
    },
    {
      "cell_type": "code",
      "execution_count": null,
      "metadata": {
        "colab": {
          "base_uri": "https://localhost:8080/"
        },
        "id": "OEXfAKnNTAfl",
        "outputId": "398b17df-024b-4d4d-e230-c8982a9674e5"
      },
      "outputs": [
        {
          "output_type": "stream",
          "name": "stdout",
          "text": [
            "\u001b[?25l   \u001b[90m━━━━━━━━━━━━━━━━━━━━━━━━━━━━━━━━━━━━━━━━\u001b[0m \u001b[32m0.0/384.0 kB\u001b[0m \u001b[31m?\u001b[0m eta \u001b[36m-:--:--\u001b[0m\r\u001b[2K   \u001b[91m━━━━\u001b[0m\u001b[90m╺\u001b[0m\u001b[90m━━━━━━━━━━━━━━━━━━━━━━━━━━━━━━━━━━━\u001b[0m \u001b[32m41.0/384.0 kB\u001b[0m \u001b[31m1.3 MB/s\u001b[0m eta \u001b[36m0:00:01\u001b[0m\r\u001b[2K   \u001b[91m━━━━━━━━━━━\u001b[0m\u001b[91m╸\u001b[0m\u001b[90m━━━━━━━━━━━━━━━━━━━━━━━━━━━━\u001b[0m \u001b[32m112.6/384.0 kB\u001b[0m \u001b[31m1.1 MB/s\u001b[0m eta \u001b[36m0:00:01\u001b[0m\r\u001b[2K   \u001b[91m━━━━━━━━━━━━━━━━━━━━━\u001b[0m\u001b[90m╺\u001b[0m\u001b[90m━━━━━━━━━━━━━━━━━━\u001b[0m \u001b[32m204.8/384.0 kB\u001b[0m \u001b[31m1.4 MB/s\u001b[0m eta \u001b[36m0:00:01\u001b[0m\r\u001b[2K   \u001b[91m━━━━━━━━━━━━━━━━━━━━━━━━━━━━━━━━━━━━━━━\u001b[0m\u001b[90m╺\u001b[0m \u001b[32m378.9/384.0 kB\u001b[0m \u001b[31m2.1 MB/s\u001b[0m eta \u001b[36m0:00:01\u001b[0m\r\u001b[2K   \u001b[90m━━━━━━━━━━━━━━━━━━━━━━━━━━━━━━━━━━━━━━━━\u001b[0m \u001b[32m384.0/384.0 kB\u001b[0m \u001b[31m2.0 MB/s\u001b[0m eta \u001b[36m0:00:00\u001b[0m\n",
            "\u001b[?25h"
          ]
        }
      ],
      "source": [
        "!pip install -qU langsmith langchain-together langchain-core langchain-community langchain-openai langchain-qdrant"
      ]
    },
    {
      "cell_type": "code",
      "source": [
        "!pip install -qU pymupdf ragas"
      ],
      "metadata": {
        "id": "rOe3py1ZVIHS"
      },
      "execution_count": null,
      "outputs": []
    },
    {
      "cell_type": "markdown",
      "source": [
        "We'll need to provide our LangSmith API key, and set tracing to \"true\"."
      ],
      "metadata": {
        "id": "6vSRr2MXk0P_"
      }
    },
    {
      "cell_type": "code",
      "source": [
        "import os\n",
        "import getpass\n",
        "\n",
        "os.environ[\"LANGCHAIN_TRACING_V2\"] = \"true\"\n",
        "os.environ[\"LANGCHAIN_API_KEY\"] = getpass.getpass(\"LangChain API Key:\")"
      ],
      "metadata": {
        "colab": {
          "base_uri": "https://localhost:8080/"
        },
        "id": "BEBDoTM4UPG7",
        "outputId": "7e940bb5-ff4a-463b-a4f3-7425c227ce72"
      },
      "execution_count": null,
      "outputs": [
        {
          "name": "stdout",
          "output_type": "stream",
          "text": [
            "LangChain API Key:··········\n"
          ]
        }
      ]
    },
    {
      "cell_type": "markdown",
      "source": [
        "We'll also want to set a project name to make things easier for ourselves."
      ],
      "metadata": {
        "id": "mYr-ZmMOk6ZP"
      }
    },
    {
      "cell_type": "code",
      "source": [
        "from uuid import uuid4\n",
        "\n",
        "os.environ[\"LANGCHAIN_PROJECT\"] = f\"AIM - SDG - {uuid4().hex[0:8]}\""
      ],
      "metadata": {
        "id": "7hZx_pKnZYt7"
      },
      "execution_count": null,
      "outputs": []
    },
    {
      "cell_type": "markdown",
      "source": [
        "You can follow the process outlined at step 1 [here](https://docs.together.ai/docs/quickstart#1-register-for-an-account) to obtain an API key.\n",
        "\n",
        "> NOTE: This notebook can be executed with the free \\$5 given to new Together AI accounts. This notebook will consume ~$0.50 credits total. Details about pricing are available [here](https://www.together.ai/pricing)."
      ],
      "metadata": {
        "id": "fRbq-Cgak9zJ"
      }
    },
    {
      "cell_type": "code",
      "source": [
        "os.environ[\"TOGETHER_API_KEY\"] = getpass.getpass(\"Together API Key:\")"
      ],
      "metadata": {
        "colab": {
          "base_uri": "https://localhost:8080/"
        },
        "id": "CvQDYxCUUVDF",
        "outputId": "aa0373a9-dc2d-4a79-d72e-be4b9aec2988"
      },
      "execution_count": null,
      "outputs": [
        {
          "name": "stdout",
          "output_type": "stream",
          "text": [
            "Together API Key:··········\n"
          ]
        }
      ]
    },
    {
      "cell_type": "markdown",
      "source": [
        "OpenAI's API Key!"
      ],
      "metadata": {
        "id": "9ixdGJFelARW"
      }
    },
    {
      "cell_type": "code",
      "source": [
        "os.environ[\"OPENAI_API_KEY\"] = getpass.getpass(\"OpenAI API Key:\")"
      ],
      "metadata": {
        "colab": {
          "base_uri": "https://localhost:8080/"
        },
        "id": "LoleVkxZUoo1",
        "outputId": "2b53ad78-bfb4-482a-8433-9cb7cc6e554f"
      },
      "execution_count": null,
      "outputs": [
        {
          "name": "stdout",
          "output_type": "stream",
          "text": [
            "OpenAI API Key:··········\n"
          ]
        }
      ]
    },
    {
      "cell_type": "markdown",
      "source": [
        "## Loading Source Documents\n",
        "\n",
        "In order to create a synthetic dataset, we must first load our source documents!"
      ],
      "metadata": {
        "id": "9XOut20Olcdq"
      }
    },
    {
      "cell_type": "code",
      "source": [
        "from langchain_community.document_loaders import PyMuPDFLoader\n",
        "\n",
        "documents = PyMuPDFLoader(file_path=\"https://s2.q4cdn.com/470004039/files/doc_earnings/2024/q3/filing/_10-Q-Q3-2024-As-Filed.pdf\").load()"
      ],
      "metadata": {
        "id": "xn5E3vJ6VGYX"
      },
      "execution_count": null,
      "outputs": []
    },
    {
      "cell_type": "markdown",
      "source": [
        "Creating our Synthetic Dataset is as simple as running the following cell.\n",
        "\n",
        "You'll notice that we're declaring a `distributions` below - this will impact what *kinds* of questions are created - more information is available [here](https://docs.ragas.io/en/latest/concepts/testset_generation.html#in-depth-evolution)."
      ],
      "metadata": {
        "id": "2WM3b1Nelmx2"
      }
    },
    {
      "cell_type": "code",
      "source": [
        "from ragas.testset.generator import TestsetGenerator\n",
        "from ragas.testset.evolutions import simple, reasoning, multi_context\n",
        "from langchain_openai import ChatOpenAI, OpenAIEmbeddings\n",
        "\n",
        "generator_llm = ChatOpenAI(model=\"gpt-4o-mini\")\n",
        "critic_llm = ChatOpenAI(model=\"gpt-4o\")\n",
        "embeddings = OpenAIEmbeddings()\n",
        "\n",
        "generator = TestsetGenerator.from_langchain(\n",
        "    generator_llm,\n",
        "    critic_llm,\n",
        "    embeddings\n",
        ")\n",
        "\n",
        "distributions = {\n",
        "    simple: 0.5,\n",
        "    multi_context: 0.4,\n",
        "    reasoning: 0.1\n",
        "}"
      ],
      "metadata": {
        "id": "YxQrHsmvVU-9"
      },
      "execution_count": null,
      "outputs": []
    },
    {
      "cell_type": "markdown",
      "source": [
        "Let's generate!\n",
        "\n",
        "> NOTE: This cell will take some time, and also make a lot of calls to OpenAI's endpoints! You may run into rate-limits during this cell!"
      ],
      "metadata": {
        "id": "QQC-gx9anDrV"
      }
    },
    {
      "cell_type": "code",
      "source": [
        "testset = generator.generate_with_langchain_docs(documents, 20, distributions)\n",
        "testset.to_pandas()"
      ],
      "metadata": {
        "colab": {
          "base_uri": "https://localhost:8080/",
          "height": 1000,
          "referenced_widgets": [
            "69719abe3e7d4148b5a712b51a55e691",
            "68748ef9f44c426b8188924cad8dd236",
            "8c98a364f42f41fab2365c2672787e8a",
            "792cf247b54e4c8896426269b39a0d79",
            "db5c7617feb74bf6943d5d9624e9823c",
            "6440871fecf1419488168eadea6447d9",
            "7b392f8c1ac74897a593b1290f334327",
            "1f3231779b344e95ac026fb881b8e459",
            "fd2926d2e0a842d6b1072fa299aa8948",
            "ac351130283a4876a2e5edca3314b568",
            "f459050b89714e62a9188e615f84d003",
            "b51494aeaf41463e8727d32c4d58eef1",
            "03ec90788f1f4261898ef074a3bce804",
            "76539ec825cc42829e86bc122e76de12",
            "4c195ce9041c4c45a38cd412f99e1899",
            "9052a6889e944e4882b93875d343a630",
            "3c64d3b5913c4bbe93702807ec1cc88d",
            "5e5fb1b50b3c4226be3efcc0bd323b6f",
            "585622fb354e46d48ad5f3008b013b85",
            "a9356e9a705e4703b96acbc84ce9384f",
            "004bae16f7b94d4f8562efe4704c2a64",
            "c84790843dd94e39a12092184e19d8a1"
          ]
        },
        "id": "ak_MfUrSWHpZ",
        "outputId": "d529bfea-be43-4aaf-ea57-a592df88b717"
      },
      "execution_count": null,
      "outputs": [
        {
          "output_type": "display_data",
          "data": {
            "text/plain": [
              "embedding nodes:   0%|          | 0/64 [00:00<?, ?it/s]"
            ],
            "application/vnd.jupyter.widget-view+json": {
              "version_major": 2,
              "version_minor": 0,
              "model_id": "69719abe3e7d4148b5a712b51a55e691"
            }
          },
          "metadata": {}
        },
        {
          "output_type": "stream",
          "name": "stderr",
          "text": [
            "WARNING:ragas.testset.docstore:Filename and doc_id are the same for all nodes.\n"
          ]
        },
        {
          "output_type": "display_data",
          "data": {
            "text/plain": [
              "Generating:   0%|          | 0/20 [00:00<?, ?it/s]"
            ],
            "application/vnd.jupyter.widget-view+json": {
              "version_major": 2,
              "version_minor": 0,
              "model_id": "b51494aeaf41463e8727d32c4d58eef1"
            }
          },
          "metadata": {}
        },
        {
          "output_type": "execute_result",
          "data": {
            "text/plain": [
              "                                             question  \\\n",
              "0   What is the purpose of the commercial paper pr...   \n",
              "1   What instruments does the Company use as cash ...   \n",
              "2   What impact do macroeconomic conditions have o...   \n",
              "3   What are the responsibilities of the certifyin...   \n",
              "4   What does the term 'fair value' refer to in th...   \n",
              "5   What factors can materially and adversely affe...   \n",
              "6   What was the total number of shares purchased ...   \n",
              "7   What are the key components of the Company's c...   \n",
              "8   What factors contributed to the increase in se...   \n",
              "9   What is the significance of the Sarbanes-Oxley...   \n",
              "10  What was Apple's net income for Q2 2024 vs. la...   \n",
              "11  How do new product launches affect net sales a...   \n",
              "12  What was Apple's net income for Q2 2024 vs. la...   \n",
              "13  How many shares were bought in the open market...   \n",
              "14  How did Apple's net sales for Q2 2024 compare ...   \n",
              "15  What drove R&D costs in Q3 and the first nine ...   \n",
              "16  How do vendor non-trade receivables impact the...   \n",
              "17  What financial metric shows unrealized gains/l...   \n",
              "18  What do forward-looking statements suggest abo...   \n",
              "19  What controls should Tim Cook have for accurat...   \n",
              "\n",
              "                                             contexts  \\\n",
              "0   [Note 6 – Income Taxes\\nEuropean Commission St...   \n",
              "1   [ of reasons, including accounting considerati...   \n",
              "2   [Item 2. \\nManagement’s Discussion and Analysi...   \n",
              "3   [Exhibit 31.2\\nCERTIFICATION\\nI, Luca Maestri,...   \n",
              "4   [September 30, 2023\\nAdjusted\\nCost\\nUnrealize...   \n",
              "5   [ ended March 30, 2024 (the “second quarter 20...   \n",
              "6   [Item 2. \\nUnregistered Sales of Equity Securi...   \n",
              "7   [Selling, General and Administrative\\nSelling,...   \n",
              "8   [Products and Services Performance\\nThe follow...   \n",
              "9   [Exhibit 32.1\\nCERTIFICATIONS OF CHIEF EXECUTI...   \n",
              "10  [Apple Inc.\\nCONDENSED CONSOLIDATED STATEMENTS...   \n",
              "11  [Item 2. \\nManagement’s Discussion and Analysi...   \n",
              "12  [Apple Inc.\\nCONDENSED CONSOLIDATED STATEMENTS...   \n",
              "13  [Item 2. \\nUnregistered Sales of Equity Securi...   \n",
              "14  [PART I  —  FINANCIAL INFORMATION\\nItem 1. Fin...   \n",
              "15  [Gross Margin\\nProducts and Services gross mar...   \n",
              "16  [Interest Rate Risk\\nTo protect the Company’s ...   \n",
              "17  [September 30, 2023\\nAdjusted\\nCost\\nUnrealize...   \n",
              "18  [Item 2. \\nManagement’s Discussion and Analysi...   \n",
              "19  [Exhibit 31.1\\nCERTIFICATION\\nI, Timothy D. Co...   \n",
              "\n",
              "                                         ground_truth evolution_type  \\\n",
              "0   The purpose of the commercial paper program fo...         simple   \n",
              "1   The Company uses forwards, options, and other ...         simple   \n",
              "2   Macroeconomic conditions, including inflation,...         simple   \n",
              "3   The certifying officer's responsibilities rega...         simple   \n",
              "4   The term 'fair value' in the context of financ...         simple   \n",
              "5   The context mentions that the Company's busine...         simple   \n",
              "6   The total number of shares purchased through o...         simple   \n",
              "7   The key components of the Company's capital re...         simple   \n",
              "8   The increase in services net sales during the ...         simple   \n",
              "9   The Sarbanes-Oxley Act of 2002 is significant ...         simple   \n",
              "10  The net income for Apple in Q2 2024 (June 29, ...  multi_context   \n",
              "11  New product launches can significantly impact ...  multi_context   \n",
              "12  The net income for Apple in Q2 2024 (which cor...  multi_context   \n",
              "13  By June 29, 2024, a total of 138,773 shares we...  multi_context   \n",
              "14  Apple's net sales for Q2 2024 were $85,777 mil...  multi_context   \n",
              "15  The growth in research and development (R&D) e...  multi_context   \n",
              "16  The context does not provide specific informat...  multi_context   \n",
              "17  The financial metric that shows unrealized gai...  multi_context   \n",
              "18  Forward-looking statements suggest current exp...      reasoning   \n",
              "19  Tim Cook should have designed disclosure contr...      reasoning   \n",
              "\n",
              "                                             metadata  episode_done  \n",
              "0   [{'source': 'https://s2.q4cdn.com/470004039/fi...          True  \n",
              "1   [{'source': 'https://s2.q4cdn.com/470004039/fi...          True  \n",
              "2   [{'source': 'https://s2.q4cdn.com/470004039/fi...          True  \n",
              "3   [{'source': 'https://s2.q4cdn.com/470004039/fi...          True  \n",
              "4   [{'source': 'https://s2.q4cdn.com/470004039/fi...          True  \n",
              "5   [{'source': 'https://s2.q4cdn.com/470004039/fi...          True  \n",
              "6   [{'source': 'https://s2.q4cdn.com/470004039/fi...          True  \n",
              "7   [{'source': 'https://s2.q4cdn.com/470004039/fi...          True  \n",
              "8   [{'source': 'https://s2.q4cdn.com/470004039/fi...          True  \n",
              "9   [{'source': 'https://s2.q4cdn.com/470004039/fi...          True  \n",
              "10  [{'source': 'https://s2.q4cdn.com/470004039/fi...          True  \n",
              "11  [{'source': 'https://s2.q4cdn.com/470004039/fi...          True  \n",
              "12  [{'source': 'https://s2.q4cdn.com/470004039/fi...          True  \n",
              "13  [{'source': 'https://s2.q4cdn.com/470004039/fi...          True  \n",
              "14  [{'source': 'https://s2.q4cdn.com/470004039/fi...          True  \n",
              "15  [{'source': 'https://s2.q4cdn.com/470004039/fi...          True  \n",
              "16  [{'source': 'https://s2.q4cdn.com/470004039/fi...          True  \n",
              "17  [{'source': 'https://s2.q4cdn.com/470004039/fi...          True  \n",
              "18  [{'source': 'https://s2.q4cdn.com/470004039/fi...          True  \n",
              "19  [{'source': 'https://s2.q4cdn.com/470004039/fi...          True  "
            ],
            "text/html": [
              "\n",
              "  <div id=\"df-bd9d4ef8-269c-4b50-871e-a0ef4907b472\" class=\"colab-df-container\">\n",
              "    <div>\n",
              "<style scoped>\n",
              "    .dataframe tbody tr th:only-of-type {\n",
              "        vertical-align: middle;\n",
              "    }\n",
              "\n",
              "    .dataframe tbody tr th {\n",
              "        vertical-align: top;\n",
              "    }\n",
              "\n",
              "    .dataframe thead th {\n",
              "        text-align: right;\n",
              "    }\n",
              "</style>\n",
              "<table border=\"1\" class=\"dataframe\">\n",
              "  <thead>\n",
              "    <tr style=\"text-align: right;\">\n",
              "      <th></th>\n",
              "      <th>question</th>\n",
              "      <th>contexts</th>\n",
              "      <th>ground_truth</th>\n",
              "      <th>evolution_type</th>\n",
              "      <th>metadata</th>\n",
              "      <th>episode_done</th>\n",
              "    </tr>\n",
              "  </thead>\n",
              "  <tbody>\n",
              "    <tr>\n",
              "      <th>0</th>\n",
              "      <td>What is the purpose of the commercial paper pr...</td>\n",
              "      <td>[Note 6 – Income Taxes\\nEuropean Commission St...</td>\n",
              "      <td>The purpose of the commercial paper program fo...</td>\n",
              "      <td>simple</td>\n",
              "      <td>[{'source': 'https://s2.q4cdn.com/470004039/fi...</td>\n",
              "      <td>True</td>\n",
              "    </tr>\n",
              "    <tr>\n",
              "      <th>1</th>\n",
              "      <td>What instruments does the Company use as cash ...</td>\n",
              "      <td>[ of reasons, including accounting considerati...</td>\n",
              "      <td>The Company uses forwards, options, and other ...</td>\n",
              "      <td>simple</td>\n",
              "      <td>[{'source': 'https://s2.q4cdn.com/470004039/fi...</td>\n",
              "      <td>True</td>\n",
              "    </tr>\n",
              "    <tr>\n",
              "      <th>2</th>\n",
              "      <td>What impact do macroeconomic conditions have o...</td>\n",
              "      <td>[Item 2. \\nManagement’s Discussion and Analysi...</td>\n",
              "      <td>Macroeconomic conditions, including inflation,...</td>\n",
              "      <td>simple</td>\n",
              "      <td>[{'source': 'https://s2.q4cdn.com/470004039/fi...</td>\n",
              "      <td>True</td>\n",
              "    </tr>\n",
              "    <tr>\n",
              "      <th>3</th>\n",
              "      <td>What are the responsibilities of the certifyin...</td>\n",
              "      <td>[Exhibit 31.2\\nCERTIFICATION\\nI, Luca Maestri,...</td>\n",
              "      <td>The certifying officer's responsibilities rega...</td>\n",
              "      <td>simple</td>\n",
              "      <td>[{'source': 'https://s2.q4cdn.com/470004039/fi...</td>\n",
              "      <td>True</td>\n",
              "    </tr>\n",
              "    <tr>\n",
              "      <th>4</th>\n",
              "      <td>What does the term 'fair value' refer to in th...</td>\n",
              "      <td>[September 30, 2023\\nAdjusted\\nCost\\nUnrealize...</td>\n",
              "      <td>The term 'fair value' in the context of financ...</td>\n",
              "      <td>simple</td>\n",
              "      <td>[{'source': 'https://s2.q4cdn.com/470004039/fi...</td>\n",
              "      <td>True</td>\n",
              "    </tr>\n",
              "    <tr>\n",
              "      <th>5</th>\n",
              "      <td>What factors can materially and adversely affe...</td>\n",
              "      <td>[ ended March 30, 2024 (the “second quarter 20...</td>\n",
              "      <td>The context mentions that the Company's busine...</td>\n",
              "      <td>simple</td>\n",
              "      <td>[{'source': 'https://s2.q4cdn.com/470004039/fi...</td>\n",
              "      <td>True</td>\n",
              "    </tr>\n",
              "    <tr>\n",
              "      <th>6</th>\n",
              "      <td>What was the total number of shares purchased ...</td>\n",
              "      <td>[Item 2. \\nUnregistered Sales of Equity Securi...</td>\n",
              "      <td>The total number of shares purchased through o...</td>\n",
              "      <td>simple</td>\n",
              "      <td>[{'source': 'https://s2.q4cdn.com/470004039/fi...</td>\n",
              "      <td>True</td>\n",
              "    </tr>\n",
              "    <tr>\n",
              "      <th>7</th>\n",
              "      <td>What are the key components of the Company's c...</td>\n",
              "      <td>[Selling, General and Administrative\\nSelling,...</td>\n",
              "      <td>The key components of the Company's capital re...</td>\n",
              "      <td>simple</td>\n",
              "      <td>[{'source': 'https://s2.q4cdn.com/470004039/fi...</td>\n",
              "      <td>True</td>\n",
              "    </tr>\n",
              "    <tr>\n",
              "      <th>8</th>\n",
              "      <td>What factors contributed to the increase in se...</td>\n",
              "      <td>[Products and Services Performance\\nThe follow...</td>\n",
              "      <td>The increase in services net sales during the ...</td>\n",
              "      <td>simple</td>\n",
              "      <td>[{'source': 'https://s2.q4cdn.com/470004039/fi...</td>\n",
              "      <td>True</td>\n",
              "    </tr>\n",
              "    <tr>\n",
              "      <th>9</th>\n",
              "      <td>What is the significance of the Sarbanes-Oxley...</td>\n",
              "      <td>[Exhibit 32.1\\nCERTIFICATIONS OF CHIEF EXECUTI...</td>\n",
              "      <td>The Sarbanes-Oxley Act of 2002 is significant ...</td>\n",
              "      <td>simple</td>\n",
              "      <td>[{'source': 'https://s2.q4cdn.com/470004039/fi...</td>\n",
              "      <td>True</td>\n",
              "    </tr>\n",
              "    <tr>\n",
              "      <th>10</th>\n",
              "      <td>What was Apple's net income for Q2 2024 vs. la...</td>\n",
              "      <td>[Apple Inc.\\nCONDENSED CONSOLIDATED STATEMENTS...</td>\n",
              "      <td>The net income for Apple in Q2 2024 (June 29, ...</td>\n",
              "      <td>multi_context</td>\n",
              "      <td>[{'source': 'https://s2.q4cdn.com/470004039/fi...</td>\n",
              "      <td>True</td>\n",
              "    </tr>\n",
              "    <tr>\n",
              "      <th>11</th>\n",
              "      <td>How do new product launches affect net sales a...</td>\n",
              "      <td>[Item 2. \\nManagement’s Discussion and Analysi...</td>\n",
              "      <td>New product launches can significantly impact ...</td>\n",
              "      <td>multi_context</td>\n",
              "      <td>[{'source': 'https://s2.q4cdn.com/470004039/fi...</td>\n",
              "      <td>True</td>\n",
              "    </tr>\n",
              "    <tr>\n",
              "      <th>12</th>\n",
              "      <td>What was Apple's net income for Q2 2024 vs. la...</td>\n",
              "      <td>[Apple Inc.\\nCONDENSED CONSOLIDATED STATEMENTS...</td>\n",
              "      <td>The net income for Apple in Q2 2024 (which cor...</td>\n",
              "      <td>multi_context</td>\n",
              "      <td>[{'source': 'https://s2.q4cdn.com/470004039/fi...</td>\n",
              "      <td>True</td>\n",
              "    </tr>\n",
              "    <tr>\n",
              "      <th>13</th>\n",
              "      <td>How many shares were bought in the open market...</td>\n",
              "      <td>[Item 2. \\nUnregistered Sales of Equity Securi...</td>\n",
              "      <td>By June 29, 2024, a total of 138,773 shares we...</td>\n",
              "      <td>multi_context</td>\n",
              "      <td>[{'source': 'https://s2.q4cdn.com/470004039/fi...</td>\n",
              "      <td>True</td>\n",
              "    </tr>\n",
              "    <tr>\n",
              "      <th>14</th>\n",
              "      <td>How did Apple's net sales for Q2 2024 compare ...</td>\n",
              "      <td>[PART I  —  FINANCIAL INFORMATION\\nItem 1. Fin...</td>\n",
              "      <td>Apple's net sales for Q2 2024 were $85,777 mil...</td>\n",
              "      <td>multi_context</td>\n",
              "      <td>[{'source': 'https://s2.q4cdn.com/470004039/fi...</td>\n",
              "      <td>True</td>\n",
              "    </tr>\n",
              "    <tr>\n",
              "      <th>15</th>\n",
              "      <td>What drove R&amp;D costs in Q3 and the first nine ...</td>\n",
              "      <td>[Gross Margin\\nProducts and Services gross mar...</td>\n",
              "      <td>The growth in research and development (R&amp;D) e...</td>\n",
              "      <td>multi_context</td>\n",
              "      <td>[{'source': 'https://s2.q4cdn.com/470004039/fi...</td>\n",
              "      <td>True</td>\n",
              "    </tr>\n",
              "    <tr>\n",
              "      <th>16</th>\n",
              "      <td>How do vendor non-trade receivables impact the...</td>\n",
              "      <td>[Interest Rate Risk\\nTo protect the Company’s ...</td>\n",
              "      <td>The context does not provide specific informat...</td>\n",
              "      <td>multi_context</td>\n",
              "      <td>[{'source': 'https://s2.q4cdn.com/470004039/fi...</td>\n",
              "      <td>True</td>\n",
              "    </tr>\n",
              "    <tr>\n",
              "      <th>17</th>\n",
              "      <td>What financial metric shows unrealized gains/l...</td>\n",
              "      <td>[September 30, 2023\\nAdjusted\\nCost\\nUnrealize...</td>\n",
              "      <td>The financial metric that shows unrealized gai...</td>\n",
              "      <td>multi_context</td>\n",
              "      <td>[{'source': 'https://s2.q4cdn.com/470004039/fi...</td>\n",
              "      <td>True</td>\n",
              "    </tr>\n",
              "    <tr>\n",
              "      <th>18</th>\n",
              "      <td>What do forward-looking statements suggest abo...</td>\n",
              "      <td>[Item 2. \\nManagement’s Discussion and Analysi...</td>\n",
              "      <td>Forward-looking statements suggest current exp...</td>\n",
              "      <td>reasoning</td>\n",
              "      <td>[{'source': 'https://s2.q4cdn.com/470004039/fi...</td>\n",
              "      <td>True</td>\n",
              "    </tr>\n",
              "    <tr>\n",
              "      <th>19</th>\n",
              "      <td>What controls should Tim Cook have for accurat...</td>\n",
              "      <td>[Exhibit 31.1\\nCERTIFICATION\\nI, Timothy D. Co...</td>\n",
              "      <td>Tim Cook should have designed disclosure contr...</td>\n",
              "      <td>reasoning</td>\n",
              "      <td>[{'source': 'https://s2.q4cdn.com/470004039/fi...</td>\n",
              "      <td>True</td>\n",
              "    </tr>\n",
              "  </tbody>\n",
              "</table>\n",
              "</div>\n",
              "    <div class=\"colab-df-buttons\">\n",
              "\n",
              "  <div class=\"colab-df-container\">\n",
              "    <button class=\"colab-df-convert\" onclick=\"convertToInteractive('df-bd9d4ef8-269c-4b50-871e-a0ef4907b472')\"\n",
              "            title=\"Convert this dataframe to an interactive table.\"\n",
              "            style=\"display:none;\">\n",
              "\n",
              "  <svg xmlns=\"http://www.w3.org/2000/svg\" height=\"24px\" viewBox=\"0 -960 960 960\">\n",
              "    <path d=\"M120-120v-720h720v720H120Zm60-500h600v-160H180v160Zm220 220h160v-160H400v160Zm0 220h160v-160H400v160ZM180-400h160v-160H180v160Zm440 0h160v-160H620v160ZM180-180h160v-160H180v160Zm440 0h160v-160H620v160Z\"/>\n",
              "  </svg>\n",
              "    </button>\n",
              "\n",
              "  <style>\n",
              "    .colab-df-container {\n",
              "      display:flex;\n",
              "      gap: 12px;\n",
              "    }\n",
              "\n",
              "    .colab-df-convert {\n",
              "      background-color: #E8F0FE;\n",
              "      border: none;\n",
              "      border-radius: 50%;\n",
              "      cursor: pointer;\n",
              "      display: none;\n",
              "      fill: #1967D2;\n",
              "      height: 32px;\n",
              "      padding: 0 0 0 0;\n",
              "      width: 32px;\n",
              "    }\n",
              "\n",
              "    .colab-df-convert:hover {\n",
              "      background-color: #E2EBFA;\n",
              "      box-shadow: 0px 1px 2px rgba(60, 64, 67, 0.3), 0px 1px 3px 1px rgba(60, 64, 67, 0.15);\n",
              "      fill: #174EA6;\n",
              "    }\n",
              "\n",
              "    .colab-df-buttons div {\n",
              "      margin-bottom: 4px;\n",
              "    }\n",
              "\n",
              "    [theme=dark] .colab-df-convert {\n",
              "      background-color: #3B4455;\n",
              "      fill: #D2E3FC;\n",
              "    }\n",
              "\n",
              "    [theme=dark] .colab-df-convert:hover {\n",
              "      background-color: #434B5C;\n",
              "      box-shadow: 0px 1px 3px 1px rgba(0, 0, 0, 0.15);\n",
              "      filter: drop-shadow(0px 1px 2px rgba(0, 0, 0, 0.3));\n",
              "      fill: #FFFFFF;\n",
              "    }\n",
              "  </style>\n",
              "\n",
              "    <script>\n",
              "      const buttonEl =\n",
              "        document.querySelector('#df-bd9d4ef8-269c-4b50-871e-a0ef4907b472 button.colab-df-convert');\n",
              "      buttonEl.style.display =\n",
              "        google.colab.kernel.accessAllowed ? 'block' : 'none';\n",
              "\n",
              "      async function convertToInteractive(key) {\n",
              "        const element = document.querySelector('#df-bd9d4ef8-269c-4b50-871e-a0ef4907b472');\n",
              "        const dataTable =\n",
              "          await google.colab.kernel.invokeFunction('convertToInteractive',\n",
              "                                                    [key], {});\n",
              "        if (!dataTable) return;\n",
              "\n",
              "        const docLinkHtml = 'Like what you see? Visit the ' +\n",
              "          '<a target=\"_blank\" href=https://colab.research.google.com/notebooks/data_table.ipynb>data table notebook</a>'\n",
              "          + ' to learn more about interactive tables.';\n",
              "        element.innerHTML = '';\n",
              "        dataTable['output_type'] = 'display_data';\n",
              "        await google.colab.output.renderOutput(dataTable, element);\n",
              "        const docLink = document.createElement('div');\n",
              "        docLink.innerHTML = docLinkHtml;\n",
              "        element.appendChild(docLink);\n",
              "      }\n",
              "    </script>\n",
              "  </div>\n",
              "\n",
              "\n",
              "<div id=\"df-044456dc-2372-424a-9a04-1627f16401ad\">\n",
              "  <button class=\"colab-df-quickchart\" onclick=\"quickchart('df-044456dc-2372-424a-9a04-1627f16401ad')\"\n",
              "            title=\"Suggest charts\"\n",
              "            style=\"display:none;\">\n",
              "\n",
              "<svg xmlns=\"http://www.w3.org/2000/svg\" height=\"24px\"viewBox=\"0 0 24 24\"\n",
              "     width=\"24px\">\n",
              "    <g>\n",
              "        <path d=\"M19 3H5c-1.1 0-2 .9-2 2v14c0 1.1.9 2 2 2h14c1.1 0 2-.9 2-2V5c0-1.1-.9-2-2-2zM9 17H7v-7h2v7zm4 0h-2V7h2v10zm4 0h-2v-4h2v4z\"/>\n",
              "    </g>\n",
              "</svg>\n",
              "  </button>\n",
              "\n",
              "<style>\n",
              "  .colab-df-quickchart {\n",
              "      --bg-color: #E8F0FE;\n",
              "      --fill-color: #1967D2;\n",
              "      --hover-bg-color: #E2EBFA;\n",
              "      --hover-fill-color: #174EA6;\n",
              "      --disabled-fill-color: #AAA;\n",
              "      --disabled-bg-color: #DDD;\n",
              "  }\n",
              "\n",
              "  [theme=dark] .colab-df-quickchart {\n",
              "      --bg-color: #3B4455;\n",
              "      --fill-color: #D2E3FC;\n",
              "      --hover-bg-color: #434B5C;\n",
              "      --hover-fill-color: #FFFFFF;\n",
              "      --disabled-bg-color: #3B4455;\n",
              "      --disabled-fill-color: #666;\n",
              "  }\n",
              "\n",
              "  .colab-df-quickchart {\n",
              "    background-color: var(--bg-color);\n",
              "    border: none;\n",
              "    border-radius: 50%;\n",
              "    cursor: pointer;\n",
              "    display: none;\n",
              "    fill: var(--fill-color);\n",
              "    height: 32px;\n",
              "    padding: 0;\n",
              "    width: 32px;\n",
              "  }\n",
              "\n",
              "  .colab-df-quickchart:hover {\n",
              "    background-color: var(--hover-bg-color);\n",
              "    box-shadow: 0 1px 2px rgba(60, 64, 67, 0.3), 0 1px 3px 1px rgba(60, 64, 67, 0.15);\n",
              "    fill: var(--button-hover-fill-color);\n",
              "  }\n",
              "\n",
              "  .colab-df-quickchart-complete:disabled,\n",
              "  .colab-df-quickchart-complete:disabled:hover {\n",
              "    background-color: var(--disabled-bg-color);\n",
              "    fill: var(--disabled-fill-color);\n",
              "    box-shadow: none;\n",
              "  }\n",
              "\n",
              "  .colab-df-spinner {\n",
              "    border: 2px solid var(--fill-color);\n",
              "    border-color: transparent;\n",
              "    border-bottom-color: var(--fill-color);\n",
              "    animation:\n",
              "      spin 1s steps(1) infinite;\n",
              "  }\n",
              "\n",
              "  @keyframes spin {\n",
              "    0% {\n",
              "      border-color: transparent;\n",
              "      border-bottom-color: var(--fill-color);\n",
              "      border-left-color: var(--fill-color);\n",
              "    }\n",
              "    20% {\n",
              "      border-color: transparent;\n",
              "      border-left-color: var(--fill-color);\n",
              "      border-top-color: var(--fill-color);\n",
              "    }\n",
              "    30% {\n",
              "      border-color: transparent;\n",
              "      border-left-color: var(--fill-color);\n",
              "      border-top-color: var(--fill-color);\n",
              "      border-right-color: var(--fill-color);\n",
              "    }\n",
              "    40% {\n",
              "      border-color: transparent;\n",
              "      border-right-color: var(--fill-color);\n",
              "      border-top-color: var(--fill-color);\n",
              "    }\n",
              "    60% {\n",
              "      border-color: transparent;\n",
              "      border-right-color: var(--fill-color);\n",
              "    }\n",
              "    80% {\n",
              "      border-color: transparent;\n",
              "      border-right-color: var(--fill-color);\n",
              "      border-bottom-color: var(--fill-color);\n",
              "    }\n",
              "    90% {\n",
              "      border-color: transparent;\n",
              "      border-bottom-color: var(--fill-color);\n",
              "    }\n",
              "  }\n",
              "</style>\n",
              "\n",
              "  <script>\n",
              "    async function quickchart(key) {\n",
              "      const quickchartButtonEl =\n",
              "        document.querySelector('#' + key + ' button');\n",
              "      quickchartButtonEl.disabled = true;  // To prevent multiple clicks.\n",
              "      quickchartButtonEl.classList.add('colab-df-spinner');\n",
              "      try {\n",
              "        const charts = await google.colab.kernel.invokeFunction(\n",
              "            'suggestCharts', [key], {});\n",
              "      } catch (error) {\n",
              "        console.error('Error during call to suggestCharts:', error);\n",
              "      }\n",
              "      quickchartButtonEl.classList.remove('colab-df-spinner');\n",
              "      quickchartButtonEl.classList.add('colab-df-quickchart-complete');\n",
              "    }\n",
              "    (() => {\n",
              "      let quickchartButtonEl =\n",
              "        document.querySelector('#df-044456dc-2372-424a-9a04-1627f16401ad button');\n",
              "      quickchartButtonEl.style.display =\n",
              "        google.colab.kernel.accessAllowed ? 'block' : 'none';\n",
              "    })();\n",
              "  </script>\n",
              "</div>\n",
              "\n",
              "    </div>\n",
              "  </div>\n"
            ],
            "application/vnd.google.colaboratory.intrinsic+json": {
              "type": "dataframe",
              "summary": "{\n  \"name\": \"testset\",\n  \"rows\": 20,\n  \"fields\": [\n    {\n      \"column\": \"question\",\n      \"properties\": {\n        \"dtype\": \"string\",\n        \"num_unique_values\": 19,\n        \"samples\": [\n          \"What is the purpose of the commercial paper program for the Company?\",\n          \"What factors can materially and adversely affect a company's stock price?\",\n          \"How do new product launches affect net sales and costs, especially with seasonal demand?\"\n        ],\n        \"semantic_type\": \"\",\n        \"description\": \"\"\n      }\n    },\n    {\n      \"column\": \"contexts\",\n      \"properties\": {\n        \"dtype\": \"object\",\n        \"semantic_type\": \"\",\n        \"description\": \"\"\n      }\n    },\n    {\n      \"column\": \"ground_truth\",\n      \"properties\": {\n        \"dtype\": \"string\",\n        \"num_unique_values\": 20,\n        \"samples\": [\n          \"The purpose of the commercial paper program for the Company is to issue unsecured short-term promissory notes and use the net proceeds for general corporate purposes, including dividends and share repurchases.\",\n          \"The financial metric that shows unrealized gains/losses affected by Level 2 valuations and interest rate derivatives is the total fair value of the Company's marketable securities, which includes unrealized gains and losses from these valuations.\",\n          \"The growth in research and development (R&D) expense during the third quarter and first nine months of 2024 compared to the same periods in 2023 was driven primarily by increases in headcount-related expenses. The net sales by product showed various changes, with iPhone net sales relatively flat, Mac net sales increasing due to higher laptop sales, iPad net sales increasing in Q3 but decreasing in the first nine months, and Wearables, Home and Accessories net sales decreasing in both periods. Services net sales increased due to higher sales from advertising, the App Store, and cloud services.\"\n        ],\n        \"semantic_type\": \"\",\n        \"description\": \"\"\n      }\n    },\n    {\n      \"column\": \"evolution_type\",\n      \"properties\": {\n        \"dtype\": \"category\",\n        \"num_unique_values\": 3,\n        \"samples\": [\n          \"simple\",\n          \"multi_context\",\n          \"reasoning\"\n        ],\n        \"semantic_type\": \"\",\n        \"description\": \"\"\n      }\n    },\n    {\n      \"column\": \"metadata\",\n      \"properties\": {\n        \"dtype\": \"object\",\n        \"semantic_type\": \"\",\n        \"description\": \"\"\n      }\n    },\n    {\n      \"column\": \"episode_done\",\n      \"properties\": {\n        \"dtype\": \"boolean\",\n        \"num_unique_values\": 1,\n        \"samples\": [\n          true\n        ],\n        \"semantic_type\": \"\",\n        \"description\": \"\"\n      }\n    }\n  ]\n}"
            }
          },
          "metadata": {},
          "execution_count": 8
        }
      ]
    },
    {
      "cell_type": "markdown",
      "source": [
        "## LangSmith Dataset\n",
        "\n",
        "Now we can move on to creating a dataset for LangSmith!\n",
        "\n",
        "First, we'll need to create a dataset on LangSmith using the `Client`!\n",
        "\n",
        "We'll name our Dataset to make it easy to work with later."
      ],
      "metadata": {
        "id": "8SLtk1GtnyoY"
      }
    },
    {
      "cell_type": "code",
      "source": [
        "from langsmith import Client\n",
        "\n",
        "client = Client()\n",
        "\n",
        "dataset_name = \"Apple 10-Q Filing Questions - v1\"\n",
        "\n",
        "dataset = client.create_dataset(\n",
        "    dataset_name=dataset_name,\n",
        "    description=\"Questions about Apple's 10-Q Filing\"\n",
        ")"
      ],
      "metadata": {
        "id": "TLgm6OjvYSsm"
      },
      "execution_count": null,
      "outputs": []
    },
    {
      "cell_type": "markdown",
      "source": [
        "We'll iterate through the RAGAS created dataframe - and add each example to our created dataset!\n",
        "\n",
        "> NOTE: We need to conform the outputs to the expected format - which in this case is: `question` and `answer`."
      ],
      "metadata": {
        "id": "64SmXMBnzXWm"
      }
    },
    {
      "cell_type": "code",
      "source": [
        "for test in testset.to_pandas().iterrows():\n",
        "  client.create_example(\n",
        "      inputs={\n",
        "          \"question\": test[1][\"question\"]\n",
        "      },\n",
        "      outputs={\n",
        "          \"answer\": test[1][\"ground_truth\"]\n",
        "      },\n",
        "      metadata={\n",
        "          \"context\": test[0]\n",
        "      },\n",
        "      dataset_id=dataset.id\n",
        "  )"
      ],
      "metadata": {
        "id": "8nFQ6di_XnY7"
      },
      "execution_count": null,
      "outputs": []
    },
    {
      "cell_type": "markdown",
      "source": [
        "## Basic RAG Chain\n",
        "\n",
        "Time for some RAG!\n",
        "\n",
        "We'll use the Apple 10-Q filing as our data source today!\n"
      ],
      "metadata": {
        "id": "o6EbQVyZq-2j"
      }
    },
    {
      "cell_type": "code",
      "source": [
        "rag_documents = PyMuPDFLoader(file_path=\"https://s2.q4cdn.com/470004039/files/doc_earnings/2024/q3/filing/_10-Q-Q3-2024-As-Filed.pdf\").load()"
      ],
      "metadata": {
        "id": "4njbUAIsaYjB"
      },
      "execution_count": null,
      "outputs": []
    },
    {
      "cell_type": "markdown",
      "source": [
        "To keep things simple, we'll just use LangChain's recursive character text splitter!\n"
      ],
      "metadata": {
        "id": "bQorBy8H1AZR"
      }
    },
    {
      "cell_type": "code",
      "source": [
        "from langchain.text_splitter import RecursiveCharacterTextSplitter\n",
        "\n",
        "text_splitter = RecursiveCharacterTextSplitter(\n",
        "    chunk_size = 500,\n",
        "    chunk_overlap = 50\n",
        ")\n",
        "\n",
        "rag_documents = text_splitter.split_documents(rag_documents)"
      ],
      "metadata": {
        "id": "qWo3Ajaragv1"
      },
      "execution_count": null,
      "outputs": []
    },
    {
      "cell_type": "markdown",
      "source": [
        "We'll create our vectorstore using a TogetherAI [embedding model](https://docs.together.ai/docs/embedding-models)!\n",
        "\n",
        "We'll specifically use:\n",
        "\n",
        "- `togethercomputer/m2-bert-80M-8k-retrieval` - this embedding model is 80M parameters, with 768 as the embedding dimension."
      ],
      "metadata": {
        "id": "kghuTb9R01oO"
      }
    },
    {
      "cell_type": "code",
      "source": [
        "from langchain_together.embeddings import TogetherEmbeddings\n",
        "\n",
        "embeddings = TogetherEmbeddings(model=\"togethercomputer/m2-bert-80M-8k-retrieval\")"
      ],
      "metadata": {
        "id": "UwfJCzP3aqKI"
      },
      "execution_count": null,
      "outputs": []
    },
    {
      "cell_type": "markdown",
      "source": [
        "As usual, we will power our RAG application with Qdrant!"
      ],
      "metadata": {
        "id": "QpCLS-a01Ft2"
      }
    },
    {
      "cell_type": "code",
      "source": [
        "from langchain_community.vectorstores import Qdrant\n",
        "\n",
        "vectorstore = Qdrant.from_documents(\n",
        "    documents=rag_documents,\n",
        "    embedding=embeddings,\n",
        "    location=\":memory:\",\n",
        "    collection_name=\"Apple 10-Q\"\n",
        ")"
      ],
      "metadata": {
        "id": "58Ypj_NgbEsi"
      },
      "execution_count": null,
      "outputs": []
    },
    {
      "cell_type": "code",
      "source": [
        "retriever = vectorstore.as_retriever()"
      ],
      "metadata": {
        "id": "SbKSjfSkbTYo"
      },
      "execution_count": null,
      "outputs": []
    },
    {
      "cell_type": "markdown",
      "source": [
        "To get the \"A\" in RAG, we'll provide a prompt."
      ],
      "metadata": {
        "id": "WxUOMaQX1K2N"
      }
    },
    {
      "cell_type": "code",
      "source": [
        "from langchain.prompts import ChatPromptTemplate\n",
        "\n",
        "RAG_PROMPT = \"\"\"\\\n",
        "Given a provided context and question, you must answer the question based only on context.\n",
        "\n",
        "If you cannot answer the question based on the context - you must say \"I don't know\".\n",
        "\n",
        "Context: {context}\n",
        "Question: {question}\n",
        "\"\"\"\n",
        "\n",
        "rag_prompt = ChatPromptTemplate.from_template(RAG_PROMPT)"
      ],
      "metadata": {
        "id": "1sLeY1oWbVqO"
      },
      "execution_count": null,
      "outputs": []
    },
    {
      "cell_type": "markdown",
      "source": [
        "For our LLM, we will be using TogetherAI's endpoints as well!\n",
        "\n",
        "We're going to be using Meta Llama 3.1 70B Instruct Turbo - a powerful model which should get us powerful results!"
      ],
      "metadata": {
        "id": "PZnHDh4e1Ou5"
      }
    },
    {
      "cell_type": "code",
      "source": [
        "from langchain_together import ChatTogether\n",
        "\n",
        "llm = ChatTogether(model=\"meta-llama/Meta-Llama-3.1-70B-Instruct-Turbo\")"
      ],
      "metadata": {
        "id": "6nx-ue1XbciV"
      },
      "execution_count": null,
      "outputs": []
    },
    {
      "cell_type": "markdown",
      "source": [
        "Finally, we can set-up our RAG LCEL chain!"
      ],
      "metadata": {
        "id": "jmTL6-pc1ZGz"
      }
    },
    {
      "cell_type": "code",
      "source": [
        "from operator import itemgetter\n",
        "from langchain_core.runnables import RunnablePassthrough, RunnableParallel\n",
        "from langchain.schema import StrOutputParser\n",
        "\n",
        "rag_chain = (\n",
        "    {\"context\": itemgetter(\"question\") | retriever, \"question\": itemgetter(\"question\")}\n",
        "    | rag_prompt | llm | StrOutputParser()\n",
        ")"
      ],
      "metadata": {
        "id": "TjWj0OLIbbFc"
      },
      "execution_count": null,
      "outputs": []
    },
    {
      "cell_type": "code",
      "source": [
        "rag_chain.invoke({\"question\" : \"Does Apple seem to be in good financial health?\"})"
      ],
      "metadata": {
        "colab": {
          "base_uri": "https://localhost:8080/",
          "height": 72
        },
        "id": "WQ7bEweo4IIb",
        "outputId": "23644146-38a8-41d6-d936-cf4ecd6cfbea"
      },
      "execution_count": null,
      "outputs": [
        {
          "output_type": "execute_result",
          "data": {
            "text/plain": [
              "\"Yes, based on the context, Apple's financial health appears to be good. The provided documents show that the company's net sales have increased or remained relatively flat in various categories, such as Mac, iPad, and Services, compared to the same periods in 2023. Additionally, the total net sales have increased by 5% in the third quarter and 1% in the first nine months of 2024 compared to the same periods in 2023. These numbers suggest a stable and growing financial performance for Apple.\""
            ],
            "application/vnd.google.colaboratory.intrinsic+json": {
              "type": "string"
            }
          },
          "metadata": {},
          "execution_count": 79
        }
      ]
    },
    {
      "cell_type": "markdown",
      "source": [
        "## LangSmith Evaluation Set-up\n",
        "\n",
        "We'll use TogetherAI's Llama 3.1 405B Instruct Turbo as our evaluation LLM for our base Evaluators."
      ],
      "metadata": {
        "id": "D9hBh5YPrdGJ"
      }
    },
    {
      "cell_type": "code",
      "source": [
        "eval_llm = ChatTogether(model=\"meta-llama/Meta-Llama-3.1-405B-Instruct-Turbo\")"
      ],
      "metadata": {
        "id": "gfwPYdIkcvpF"
      },
      "execution_count": null,
      "outputs": []
    },
    {
      "cell_type": "markdown",
      "source": [
        "We'll be using a number of evaluators - from LangSmith provided evaluators, to a few custom evaluators!"
      ],
      "metadata": {
        "id": "6b8pToKH2K28"
      }
    },
    {
      "cell_type": "code",
      "source": [
        "from langsmith.evaluation import LangChainStringEvaluator, evaluate\n",
        "\n",
        "qa_evaluator = LangChainStringEvaluator(\"qa\", config={\"llm\" : eval_llm})\n",
        "context_qa_evaluator = LangChainStringEvaluator(\"context_qa\", config={\"llm\" : eval_llm})\n",
        "cot_qa_evaluator = LangChainStringEvaluator(\"cot_qa\", config={\"llm\" : eval_llm})\n",
        "\n",
        "labeled_helpfulness_evaluator = LangChainStringEvaluator(\n",
        "    \"labeled_criteria\",\n",
        "    config={\n",
        "        \"criteria\": {\n",
        "            \"helpfulness\": (\n",
        "                \"Is this submission helpful to the user,\"\n",
        "                \" taking into account the correct reference answer?\"\n",
        "            )\n",
        "        }\n",
        "    },\n",
        "    prepare_data=lambda run, example: {\n",
        "        \"prediction\": run.outputs[\"output\"],\n",
        "        \"reference\": example.outputs[\"answer\"],\n",
        "        \"input\": example.inputs[\"question\"],\n",
        "    }\n",
        ")\n",
        "\n",
        "dope_or_nope_evaluator = LangChainStringEvaluator(\n",
        "    \"criteria\",\n",
        "    config={\n",
        "        \"criteria\": {\n",
        "            \"dopeness\": \"Is this submission dope, lit, or cool?\",\n",
        "        }\n",
        "    }\n",
        ")"
      ],
      "metadata": {
        "id": "PXSG-_ajckp6"
      },
      "execution_count": null,
      "outputs": []
    },
    {
      "cell_type": "markdown",
      "source": [
        "## LangSmith Evaluation"
      ],
      "metadata": {
        "id": "R35sQMHVrnpl"
      }
    },
    {
      "cell_type": "code",
      "source": [
        "evaluate(\n",
        "    rag_chain.invoke,\n",
        "    data=dataset_name,\n",
        "    evaluators=[\n",
        "        qa_evaluator,\n",
        "        context_qa_evaluator,\n",
        "        cot_qa_evaluator,\n",
        "        labeled_helpfulness_evaluator,\n",
        "        dope_or_nope_evaluator\n",
        "    ],\n",
        "    metadata={\"revision_id\": \"default_chain\"},\n",
        ")"
      ],
      "metadata": {
        "id": "t7t_Uz0tdumL"
      },
      "execution_count": null,
      "outputs": []
    },
    {
      "cell_type": "markdown",
      "source": [
        "## Dope-ifying Our Application\n",
        "\n",
        "We'll be making a few changes to our RAG chain to increase its performance on our SDG evaluation test dataset!\n",
        "\n",
        "- Include a \"dope\" prompt augmentation\n",
        "- Use larger chunks\n",
        "- Improve the retriever model to: `BAAI/bge-large-en-v1.5`\n",
        "\n",
        "Let's see how this changes our evaluation!"
      ],
      "metadata": {
        "id": "Nq7fCVinrpI4"
      }
    },
    {
      "cell_type": "code",
      "source": [
        "DOPE_RAG_PROMPT = \"\"\"\\\n",
        "Given a provided context and question, you must answer the question based only on context.\n",
        "\n",
        "If you cannot answer the question based on the context - you must say \"I don't know\".\n",
        "\n",
        "You must answer the questions in a dope way, be cool!\n",
        "\n",
        "Context: {context}\n",
        "Question: {question}\n",
        "\"\"\"\n",
        "\n",
        "dope_rag_prompt = ChatPromptTemplate.from_template(DOPE_RAG_PROMPT)"
      ],
      "metadata": {
        "id": "z56pXwyUgFUt"
      },
      "execution_count": null,
      "outputs": []
    },
    {
      "cell_type": "code",
      "source": [
        "rag_documents = PyMuPDFLoader(file_path=\"https://s2.q4cdn.com/470004039/files/doc_earnings/2024/q3/filing/_10-Q-Q3-2024-As-Filed.pdf\").load()"
      ],
      "metadata": {
        "id": "rZLcTstJgfv5"
      },
      "execution_count": null,
      "outputs": []
    },
    {
      "cell_type": "code",
      "source": [
        "from langchain.text_splitter import RecursiveCharacterTextSplitter\n",
        "\n",
        "text_splitter = RecursiveCharacterTextSplitter(\n",
        "    chunk_size = 1000,\n",
        "    chunk_overlap = 50\n",
        ")\n",
        "\n",
        "rag_documents = text_splitter.split_documents(rag_documents)"
      ],
      "metadata": {
        "id": "-LYsyirngj6n"
      },
      "execution_count": null,
      "outputs": []
    },
    {
      "cell_type": "code",
      "source": [
        "from langchain_together.embeddings import TogetherEmbeddings\n",
        "\n",
        "embeddings = TogetherEmbeddings(model=\"BAAI/bge-large-en-v1.5\")"
      ],
      "metadata": {
        "id": "b9MI2Bm2go1r"
      },
      "execution_count": null,
      "outputs": []
    },
    {
      "cell_type": "code",
      "source": [
        "vectorstore = Qdrant.from_documents(\n",
        "    documents=rag_documents,\n",
        "    embedding=embeddings,\n",
        "    location=\":memory:\",\n",
        "    collection_name=\"Apple 10-Q (Augmented)\"\n",
        ")"
      ],
      "metadata": {
        "id": "hVUY25FKgxXx"
      },
      "execution_count": null,
      "outputs": []
    },
    {
      "cell_type": "code",
      "source": [
        "retriever = vectorstore.as_retriever()"
      ],
      "metadata": {
        "id": "Q4TOZNYIg2v1"
      },
      "execution_count": null,
      "outputs": []
    },
    {
      "cell_type": "code",
      "source": [
        "dope_rag_chain = (\n",
        "    {\"context\": itemgetter(\"question\") | retriever, \"question\": itemgetter(\"question\")}\n",
        "    | dope_rag_prompt | llm | StrOutputParser()\n",
        ")"
      ],
      "metadata": {
        "id": "HqnTqeXMhAdx"
      },
      "execution_count": null,
      "outputs": []
    },
    {
      "cell_type": "code",
      "source": [
        "dope_rag_chain.invoke({\"question\" : \"Does Apple seem to be in good financial health?\"})"
      ],
      "metadata": {
        "colab": {
          "base_uri": "https://localhost:8080/",
          "height": 72
        },
        "id": "OfZZ3MoN3fKv",
        "outputId": "8cd40fd2-7b15-4d31-d0fa-4005faf75264"
      },
      "execution_count": null,
      "outputs": [
        {
          "output_type": "execute_result",
          "data": {
            "text/plain": [
              "\"Yaaas, Apple's financials are lookin' straight fire! They're rockin' a total of $331,612 in assets, with a significant chunk of that comin' from marketable securities and cash. Their net sales are also on point, with a total of $296,105 for the nine months ended June 29, 2024. And let's not forget about that gross margin, baby - it's a whoppin' $136,804! They're also keepin' their operating expenses in check, with a total of $43,179 for the nine months ended June 29, 2024. All in all, Apple's financials are lookin' healthy and strong, homie!\""
            ],
            "application/vnd.google.colaboratory.intrinsic+json": {
              "type": "string"
            }
          },
          "metadata": {},
          "execution_count": 77
        }
      ]
    },
    {
      "cell_type": "code",
      "source": [
        "evaluate(\n",
        "    dope_rag_chain.invoke,\n",
        "    data=dataset_name,\n",
        "    evaluators=[\n",
        "        qa_evaluator,\n",
        "        context_qa_evaluator,\n",
        "        cot_qa_evaluator,\n",
        "        labeled_helpfulness_evaluator,\n",
        "        dope_or_nope_evaluator\n",
        "    ],\n",
        "    metadata={\"revision_id\": \"dope_chain\"},\n",
        ")"
      ],
      "metadata": {
        "id": "Dx11S2b-hIM8"
      },
      "execution_count": null,
      "outputs": []
    }
  ]
}